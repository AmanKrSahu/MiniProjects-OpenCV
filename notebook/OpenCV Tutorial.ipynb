{
 "cells": [
  {
   "cell_type": "markdown",
   "id": "e16e85a6",
   "metadata": {},
   "source": [
    "# **Tutorials on Computer Vision** - OpenCV"
   ]
  },
  {
   "cell_type": "markdown",
   "id": "f101c1a0",
   "metadata": {},
   "source": [
    "## 1. Installing dependencies"
   ]
  },
  {
   "cell_type": "code",
   "execution_count": 1,
   "id": "0d05aa21",
   "metadata": {},
   "outputs": [
    {
     "name": "stdout",
     "output_type": "stream",
     "text": [
      "Requirement already satisfied: opencv-contrib-python in d:\\programming\\python\\lib\\site-packages (4.7.0.72)\n",
      "Requirement already satisfied: numpy>=1.21.2 in d:\\programming\\python\\lib\\site-packages (from opencv-contrib-python) (1.24.1)\n"
     ]
    }
   ],
   "source": [
    "# Installing main & conribution modules of OpenCV\n",
    "%pip install opencv-contrib-python"
   ]
  },
  {
   "cell_type": "code",
   "execution_count": 2,
   "id": "95d8f4ad",
   "metadata": {},
   "outputs": [
    {
     "name": "stdout",
     "output_type": "stream",
     "text": [
      "Requirement already satisfied: caer in d:\\programming\\python\\lib\\site-packages (2.0.8)\n",
      "Requirement already satisfied: mypy in d:\\programming\\python\\lib\\site-packages (from caer) (1.1.1)\n",
      "Requirement already satisfied: numpy in d:\\programming\\python\\lib\\site-packages (from caer) (1.24.1)\n",
      "Requirement already satisfied: opencv-contrib-python in d:\\programming\\python\\lib\\site-packages (from caer) (4.7.0.72)\n",
      "Requirement already satisfied: typing-extensions in d:\\programming\\python\\lib\\site-packages (from caer) (4.4.0)\n",
      "Requirement already satisfied: mypy-extensions>=1.0.0 in d:\\programming\\python\\lib\\site-packages (from mypy->caer) (1.0.0)\n"
     ]
    }
   ],
   "source": [
    "# Installing caer which can be useful to speed up certain computer vision tasks\n",
    "%pip install caer"
   ]
  },
  {
   "cell_type": "markdown",
   "id": "37154d93",
   "metadata": {},
   "source": [
    "## 2. Importing libraries"
   ]
  },
  {
   "cell_type": "code",
   "execution_count": 3,
   "id": "655eeb61",
   "metadata": {},
   "outputs": [],
   "source": [
    "# Essentials\n",
    "import os\n",
    "from urllib.request import urlretrieve\n",
    "import numpy as np\n",
    "\n",
    "# OpenCV module\n",
    "import cv2 as cv"
   ]
  },
  {
   "cell_type": "markdown",
   "id": "97c2173c",
   "metadata": {},
   "source": [
    "## 3. Reading Images & Videos"
   ]
  },
  {
   "cell_type": "markdown",
   "id": "c01b7f53",
   "metadata": {},
   "source": [
    "**Reading an Image**"
   ]
  },
  {
   "cell_type": "code",
   "execution_count": 4,
   "id": "395f6f28",
   "metadata": {},
   "outputs": [],
   "source": [
    "# Making a folder to store images\n",
    "!mkdir Images\n",
    "\n",
    "# Getting the image from the web\n",
    "urlretrieve('https://images.ctfassets.net/440y9b545yd9/gpF8uuzB4e4TfkKHiBBOi/ef63fc7bd56298455365f7bae1af9728/Muchkin_Cat_5_things850.jpg', 'Cat.jpg')\n",
    "\n",
    "# Moving the image to the desired folder\n",
    "os.rename('./Cat.jpg','./Images/Cat.jpg')"
   ]
  },
  {
   "cell_type": "code",
   "execution_count": 5,
   "id": "aae9db24",
   "metadata": {},
   "outputs": [
    {
     "data": {
      "text/plain": [
       "-1"
      ]
     },
     "execution_count": 5,
     "metadata": {},
     "output_type": "execute_result"
    }
   ],
   "source": [
    "# Reading the image\n",
    "img = cv.imread('./Images/Cat.jpg')\n",
    "cv.imshow(\"Image\", img)\n",
    "cv.waitKey(0)"
   ]
  },
  {
   "cell_type": "markdown",
   "id": "9b9098c6",
   "metadata": {},
   "source": [
    "**Reading a Video**"
   ]
  },
  {
   "cell_type": "code",
   "execution_count": 6,
   "id": "4d42fd5e",
   "metadata": {},
   "outputs": [],
   "source": [
    "# Reading the video using webcam\n",
    "video = cv.VideoCapture(0)\n",
    "\n",
    "while True:\n",
    "    isTrue, frame = video.read()\n",
    "    cv.imshow(\"Video\", frame)\n",
    "    \n",
    "    if cv.waitKey(20) & 0xFF == ord('q'):\n",
    "        break\n",
    "\n",
    "video.release()\n",
    "cv.destroyAllWindows()"
   ]
  },
  {
   "cell_type": "markdown",
   "id": "de01c1d6",
   "metadata": {},
   "source": [
    "## 4. Resizing/Rescaling Frames"
   ]
  },
  {
   "cell_type": "code",
   "execution_count": 7,
   "id": "dbfcc045",
   "metadata": {},
   "outputs": [],
   "source": [
    "# Function for rescaling frames\n",
    "def rescaleFrame(frame, scale=0.75):\n",
    "    width = int(frame.shape[1]*scale)\n",
    "    height = int(frame.shape[0]*scale)\n",
    "    dimensions = (width, height)\n",
    "    \n",
    "    return cv.resize(frame, dimensions, interpolation=cv.INTER_AREA)"
   ]
  },
  {
   "cell_type": "code",
   "execution_count": 8,
   "id": "88f315c4",
   "metadata": {},
   "outputs": [],
   "source": [
    "# Calling rescaling function on video frames\n",
    "video = cv.VideoCapture(0)\n",
    "\n",
    "while True:\n",
    "    isTrue, frame = video.read()\n",
    "    resized_frame = rescaleFrame(frame)\n",
    "    \n",
    "    cv.imshow(\"Video\", frame)\n",
    "    cv.imshow(\"Rescaled Video\", resized_frame)\n",
    "    \n",
    "    if cv.waitKey(20) & 0xFF == ord('q'):\n",
    "        break\n",
    "\n",
    "video.release()\n",
    "cv.destroyAllWindows()"
   ]
  },
  {
   "cell_type": "markdown",
   "id": "2fff2bc1",
   "metadata": {},
   "source": [
    "**Note:** This method can be used for Images, Videos as well as Live Videos"
   ]
  },
  {
   "cell_type": "code",
   "execution_count": 9,
   "id": "ec853b94",
   "metadata": {},
   "outputs": [],
   "source": [
    "# Method-2: Used particularly used for live videos\n",
    "def changeRes(frame, width, height):\n",
    "    frame.set(3, width)\n",
    "    frame.set(4, height)\n",
    "\n",
    "# Appling rescaling on video\n",
    "video = cv.VideoCapture(0)\n",
    "\n",
    "changeRes(video, 0.5, 0.5)\n",
    "\n",
    "while True:\n",
    "    isTrue, frame = video.read()\n",
    "    \n",
    "    cv.imshow(\"Video\", frame)\n",
    "    \n",
    "    if cv.waitKey(20) & 0xFF == ord('q'):\n",
    "        break\n",
    "\n",
    "video.release()\n",
    "cv.destroyAllWindows()"
   ]
  },
  {
   "cell_type": "markdown",
   "id": "0d9460e9",
   "metadata": {},
   "source": [
    "## 5. Drawing Shapes"
   ]
  },
  {
   "cell_type": "code",
   "execution_count": 10,
   "id": "0d7e44bc",
   "metadata": {},
   "outputs": [
    {
     "data": {
      "text/plain": [
       "-1"
      ]
     },
     "execution_count": 10,
     "metadata": {},
     "output_type": "execute_result"
    }
   ],
   "source": [
    "# Creating a blank image\n",
    "blank = np.zeros((500,500,3), dtype='uint8')\n",
    "cv.imshow(\"Blank\", blank)\n",
    "cv.waitKey(0)"
   ]
  },
  {
   "cell_type": "code",
   "execution_count": 11,
   "id": "0a42939c",
   "metadata": {},
   "outputs": [
    {
     "data": {
      "text/plain": [
       "-1"
      ]
     },
     "execution_count": 11,
     "metadata": {},
     "output_type": "execute_result"
    }
   ],
   "source": [
    "# Painting the image a certain colour\n",
    "blank = np.zeros((500,500,3), dtype='uint8')\n",
    "blank[200:300, 300:400] = [0,0,255]\n",
    "cv.imshow(\"Red\", blank)\n",
    "cv.waitKey(0)"
   ]
  },
  {
   "cell_type": "code",
   "execution_count": 12,
   "id": "6a8df4fe",
   "metadata": {},
   "outputs": [
    {
     "data": {
      "text/plain": [
       "-1"
      ]
     },
     "execution_count": 12,
     "metadata": {},
     "output_type": "execute_result"
    }
   ],
   "source": [
    "# Draw a rectangle on the image\n",
    "blank = np.zeros((500,500,3), dtype='uint8')\n",
    "\n",
    "# cv.rectangle parameters: <starting coordinates>, <ending coordinates>, <colour>, <thickness>\n",
    "cv.rectangle(blank, (0,0), (250,500), (0,0,255), thickness=5)\n",
    "cv.imshow(\"Rectangle\",blank)\n",
    "cv.waitKey(0)"
   ]
  },
  {
   "cell_type": "markdown",
   "id": "e0fa883c",
   "metadata": {},
   "source": [
    "**Note:** To draw a filled shape set the thickness to -1. "
   ]
  },
  {
   "cell_type": "code",
   "execution_count": 13,
   "id": "8dd056d0",
   "metadata": {},
   "outputs": [
    {
     "data": {
      "text/plain": [
       "-1"
      ]
     },
     "execution_count": 13,
     "metadata": {},
     "output_type": "execute_result"
    }
   ],
   "source": [
    "# Draw a circle on the image\n",
    "blank = np.zeros((500,500,3), dtype='uint8')\n",
    "\n",
    "# cv.circle parameters: <starting coordinates>, <radius>, <colour>, <thickness>\n",
    "cv.circle(blank, (250,250), 40, (0,0,255), thickness=5)\n",
    "cv.imshow(\"Circle\",blank)\n",
    "cv.waitKey(0)"
   ]
  },
  {
   "cell_type": "code",
   "execution_count": 14,
   "id": "9435bfeb",
   "metadata": {},
   "outputs": [
    {
     "data": {
      "text/plain": [
       "-1"
      ]
     },
     "execution_count": 14,
     "metadata": {},
     "output_type": "execute_result"
    }
   ],
   "source": [
    "# Draw a line on the image\n",
    "blank = np.zeros((500,500,3), dtype='uint8')\n",
    "\n",
    "# cv.line parameters: <starting coordinates>, <ending coordinates>, <colour>, <thickness>\n",
    "cv.line(blank, (0,0), (250,250), (0,0,255), thickness=5)\n",
    "cv.imshow(\"Line\",blank)\n",
    "cv.waitKey(0)"
   ]
  },
  {
   "cell_type": "markdown",
   "id": "5e369e24",
   "metadata": {},
   "source": [
    "## 6. Putting Text"
   ]
  },
  {
   "cell_type": "code",
   "execution_count": 15,
   "id": "0c50f1d7",
   "metadata": {},
   "outputs": [
    {
     "data": {
      "text/plain": [
       "-1"
      ]
     },
     "execution_count": 15,
     "metadata": {},
     "output_type": "execute_result"
    }
   ],
   "source": [
    "# Writing text on the image\n",
    "blank = np.zeros((500,500,3), dtype='uint8')\n",
    "\n",
    "# cv.putText parameters: <text>, <starting coordinates>, <fontface>, <fontscale>, <colour> <thickness>\n",
    "cv.putText(blank, \"Hello\", (225,225), cv.FONT_HERSHEY_TRIPLEX, 1.0, (0,0,255), thickness=2)\n",
    "cv.imshow(\"Text\",blank)\n",
    "cv.waitKey(0)"
   ]
  }
 ],
 "metadata": {
  "kernelspec": {
   "display_name": "Python 3",
   "language": "python",
   "name": "python3"
  },
  "language_info": {
   "codemirror_mode": {
    "name": "ipython",
    "version": 3
   },
   "file_extension": ".py",
   "mimetype": "text/x-python",
   "name": "python",
   "nbconvert_exporter": "python",
   "pygments_lexer": "ipython3",
   "version": "3.8.0"
  }
 },
 "nbformat": 4,
 "nbformat_minor": 5
}
